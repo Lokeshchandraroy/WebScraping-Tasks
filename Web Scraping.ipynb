{
 "cells": [
  {
   "cell_type": "markdown",
   "id": "87d240ee-0ccf-45d1-8611-8afed502c625",
   "metadata": {},
   "source": [
    "# WEB SCRAPING"
   ]
  },
  {
   "cell_type": "markdown",
   "id": "dba2f15a-801a-431a-81ac-27f465d6f8ea",
   "metadata": {},
   "source": [
    "# Import packages"
   ]
  },
  {
   "cell_type": "code",
   "execution_count": 1,
   "id": "3d4ee91f-cc84-4d05-8f27-40e06722ee02",
   "metadata": {},
   "outputs": [],
   "source": [
    "from bs4 import BeautifulSoup as bs\n",
    "import requests\n",
    "import html5lib"
   ]
  },
  {
   "cell_type": "code",
   "execution_count": 21,
   "id": "f63854a9-d94b-4382-b4da-bc5062717926",
   "metadata": {},
   "outputs": [
    {
     "name": "stdout",
     "output_type": "stream",
     "text": [
      "['1', '+1', 'Qatar', '286.42']\n",
      "['2', '-1', 'United Arab Emirates', '284.21']\n",
      "['3', '-', 'Kuwait', '216.96']\n",
      "['4', '+2', 'South Korea', '173.95']\n",
      "['5', '-', 'Denmark', '157.94']\n",
      "['6', '-2', 'China', '144.85']\n",
      "['7', '-', 'Norway', '141.40']\n",
      "['8', '+2', 'Iceland', '136.91']\n",
      "['9', '-1', 'Netherlands', '134.15']\n",
      "['10', '+1', 'Saudi Arabia', '125.19']\n",
      "['11', '+1', 'United States', '122.74']\n",
      "['12', '+3', 'Bulgaria', '120.35']\n",
      "['13', '-4', 'Bahrain', '120.11']\n",
      "['14', '-', 'Macau (SAR)', '111.29']\n",
      "['15', '-2', 'Finland', '108.94']\n",
      "['16', '-', 'Sweden', '103.43']\n",
      "['17', '+1', 'India', '100.65']\n",
      "['18', '+11', 'Portugal', '99.93']\n",
      "['19', '+4', 'Singapore', '99.07']\n",
      "['20', '-3', 'Canada', '98.40']\n",
      "['21', '-', 'Croatia', '98.31']\n",
      "['22', '-3', 'Luxembourg', '97.08']\n",
      "['23', '-3', 'Brunei', '93.66']\n",
      "['24', '-2', 'France', '92.47']\n",
      "['25', '+1', 'Australia', '92.00']\n",
      "['26', '-1', 'Estonia', '91.34']\n",
      "['27', '-3', 'Switzerland', '90.85']\n",
      "['28', '+2', 'Malaysia', '85.59']\n",
      "['29', '-1', 'Latvia', '84.19']\n",
      "['30', '+3', 'Maldives', '83.71']\n",
      "['31', '-4', 'Lithuania', '83.47']\n",
      "['32', '-1', 'North Macedonia', '80.79']\n",
      "['33', '-1', 'Austria', '79.96']\n",
      "['34', '-', 'Greece', '78.17']\n",
      "['35', '+1', 'Belgium', '76.52']\n",
      "['36', '-1', 'Taiwan', '75.70']\n",
      "['37', '-', 'Uruguay', '75.69']\n",
      "['38', '-', 'Oman', '75.22']\n",
      "['39', '+4', 'New Zealand', '71.47']\n",
      "['40', '+1', 'Slovenia', '70.65']\n",
      "['41', '-2', 'Czechia', '69.49']\n",
      "['42', '-2', 'Malta', '66.34']\n",
      "['43', '-1', 'Hong Kong (SAR)', '61.93']\n",
      "['44', '+2', 'Romania', '60.74']\n",
      "['45', '-1', 'Cyprus', '60.19']\n",
      "['46', '+2', 'Montenegro', '59.09']\n",
      "['47', '-2', 'Germany', '58.38']\n",
      "['48', '+3', 'Poland', '57.19']\n",
      "['49', '+12', 'Spain', '55.20']\n",
      "['50', '-1', 'United Kingdom', '53.96']\n",
      "['51', '-1', 'Brazil', '53.09']\n",
      "['52', '-5', 'Serbia', '53.05']\n",
      "['53', '+5', 'Vietnam', '51.65']\n",
      "['54', '-', 'Slovakia', '51.36']\n",
      "['55', '-3', 'Albania', '50.57']\n",
      "['56', '-', 'South Africa', '49.79']\n",
      "['57', '+15', 'Mauritius', '49.66']\n",
      "['58', '-5', 'Italy', '49.26']\n",
      "['59', '-', 'Azerbaijan', '48.41']\n",
      "['60', '-5', 'Japan', '48.00']\n",
      "['61', '-1', 'Hungary', '47.84']\n",
      "['62', '-', 'Botswana', '47.68']\n",
      "['63', '-', 'Thailand', '44.60']\n",
      "['64', '-7', 'Suriname', '42.06']\n",
      "['65', '-1', 'Israel', '41.83']\n",
      "['66', '-1', 'Kosovo', '41.38']\n",
      "['67', '+1', 'Morocco', '39.04']\n",
      "['68', '-1', 'Turkey', '37.66']\n",
      "['69', '+5', 'Ireland', '36.39']\n",
      "['70', '-1', 'Kazakhstan', '35.71']\n",
      "['71', '+10', 'Zimbabwe', '35.21']\n",
      "['72', '-6', 'Georgia', '35.09']\n",
      "['73', '-', 'Iran', '34.71']\n",
      "['74', '+4', 'Lebanon', '33.71']\n",
      "['75', '+2', 'Trinidad and Tobago', '32.87']\n",
      "['76', '-5', 'Moldova', '32.18']\n",
      "['77', '+3', 'Uganda', '32.11']\n",
      "['78', '-8', 'Chile', '31.44']\n",
      "['79', '+6', 'Senegal', '31.26']\n",
      "['80', '-1', 'Armenia', '30.19']\n",
      "['81', '-5', 'Laos', '29.84']\n",
      "['82', '+5', 'Philippines', '29.65']\n",
      "['83', '+1', 'Ethiopia', '29.49']\n",
      "['84', '+5', 'Iraq', '28.05']\n",
      "['85', '-2', 'Jamaica', '27.28']\n",
      "['86', '+6', 'Guatemala', '27.27']\n",
      "['87', '+7', 'Kyrgyzstan', '27.25']\n",
      "['88', '-', 'Ukraine', '27.23']\n",
      "['89', '+9', 'Cambodia', '26.78']\n",
      "['90', '-15', \"Côte d'Ivoire\", '26.76']\n",
      "['91', '-9', 'Honduras', '26.71']\n",
      "['92', '+13', 'Namibia', '26.59']\n",
      "['93', '+4', 'El Salvador', '26.48']\n",
      "['94', '-3', 'Uzbekistan', '26.24']\n",
      "['95', '+1', 'Tanzania', '26.20']\n",
      "['96', '-3', 'Nigeria', '25.79']\n",
      "['97', '-2', 'Mexico', '25.78']\n",
      "['98', '-12', 'Costa Rica', '25.73']\n",
      "['99', '+2', 'Indonesia', '25.39']\n",
      "['100', '+2', 'Argentina', '25.36']\n",
      "['101', '+6', 'Bosnia and Herzegovina', '25.35']\n",
      "['102', '+16', 'Fiji', '25.11']\n",
      "['103', '+3', 'Egypt', '25.11']\n",
      "['104', '-14', 'Ecuador', '24.99']\n",
      "['105', '-6', 'Russia', '24.64']\n",
      "['106', '+2', 'Bangladesh', '24.19']\n",
      "['107', '-3', 'Dominican Republic', '24.03']\n",
      "['108', '+2', 'Myanmar (Burma)', '23.69']\n",
      "['109', '-6', 'Kenya', '23.68']\n",
      "['110', '+6', 'Jordan', '23.12']\n",
      "['111', '+4', 'Algeria', '22.38']\n",
      "['112', '-1', 'Tunisia', '22.12']\n",
      "['113', '-4', 'Guyana', '21.29']\n",
      "['114', '-1', 'Sri Lanka', '19.62']\n",
      "['115', '+8', 'Zambia', '19.59']\n",
      "['116', '-2', 'Panama', '18.84']\n",
      "['117', '-', 'Paraguay', '18.11']\n",
      "['118', '-', 'Rwanda', '18.10']\n",
      "['119', '+1', 'Mozambique', '17.98']\n",
      "['120', '+1', 'Peru', '17.42']\n",
      "['121', '+1', 'Papua New Guinea', '17.32']\n",
      "['122', '+2', 'Pakistan', '17.17']\n",
      "['123', '-4', 'DR Congo', '17.00']\n",
      "['124', '+3', 'Libya', '16.85']\n",
      "['125', '-13', 'Somalia', '16.08']\n",
      "['126', '-', 'Nepal', '14.83']\n",
      "['127', '+5', 'Colombia', '14.77']\n",
      "['128', '-3', 'Ghana', '13.59']\n",
      "['129', '+5', 'Syria', '13.43']\n",
      "['130', '-1', 'Cameroon', '13.11']\n",
      "['131', '-3', 'Mongolia', '12.71']\n",
      "['132', '-1', 'Nicaragua', '12.70']\n",
      "['133', '+3', 'Angola', '12.17']\n",
      "['134', '-4', 'Belarus', '11.86']\n",
      "['135', '-', 'Venezuela', '11.43']\n",
      "['136', '+1', 'Bolivia', '9.92']\n",
      "['137', '+2', 'Yemen', '8.87']\n",
      "['138', '-', 'Haiti', '8.38']\n",
      "['139', '+1', 'Tajikistan', '8.14']\n",
      "['140', '+2', 'Sudan', '7.50']\n",
      "['141', '-', 'Afghanistan', '5.07']\n",
      "['142', '+1', 'Cuba', '3.84']\n",
      "['143', '+1', 'East Timor', '3.34']\n"
     ]
    }
   ],
   "source": [
    "import requests\n",
    "from bs4 import BeautifulSoup\n",
    "# Send a GET request to the URL\n",
    "response = requests.get('https://www.speedtest.net/global-index')\n",
    "soup = BeautifulSoup(response.content, 'html.parser')\n",
    "\n",
    "div_element = soup.find('div', id='column-mobileMedian', class_='pure-u-1 pure-u-lg-1-2 results-column mobileMedian-results')\n",
    "\n",
    "if div_element:\n",
    "    mobile_median_list = []\n",
    "    div_text = div_element.text.strip()   \n",
    "    lines = div_text.split('\\n')\n",
    "\n",
    "    for line in lines:\n",
    "        line = line.strip()\n",
    "        if line:\n",
    "            mobile_median_list.append(line)\n",
    "    contents = mobile_median_list[14::]\n",
    "    #print(contents)\n",
    "\n",
    "    elements_per_sublist = 4\n",
    "    sublist = [contents[i:i+elements_per_sublist] for i in range(0, len(contents), elements_per_sublist)]\n",
    "    last_data = sublist[0:143]\n",
    "    for i in last_data:\n",
    "        print(i)\n",
    "else:\n",
    "    print(\"No <div> element with id 'column-mobileMedian' and class 'pure-u-1 pure-u-lg-1-2 results-column mobileMedian-results' found\")\n"
   ]
  },
  {
   "cell_type": "code",
   "execution_count": 28,
   "id": "398edd30-3125-4ffa-a83c-8463cf876d08",
   "metadata": {},
   "outputs": [],
   "source": [
    "#print(last_data)"
   ]
  },
  {
   "cell_type": "markdown",
   "id": "789e1241-c5b0-4b4d-a154-ba62326dbf5b",
   "metadata": {},
   "source": [
    "# Converting into CSV"
   ]
  },
  {
   "cell_type": "code",
   "execution_count": 37,
   "id": "1871c46d-cd34-42c2-9d36-52e72fa9d2bd",
   "metadata": {},
   "outputs": [
    {
     "name": "stdout",
     "output_type": "stream",
     "text": [
      "CSV file created successfully!\n"
     ]
    }
   ],
   "source": [
    "import csv\n",
    "\n",
    "column_names = ['sl_no','country_code','country_name','mbps_downloaded']\n",
    "\n",
    "with open('mobile_data.csv', 'w', newline='') as csvfile:\n",
    "  writer = csv.writer(csvfile)\n",
    "  # Write the header row\n",
    "  writer.writerow(column_names)\n",
    "  # Write the data rows\n",
    "  writer.writerows(last_data)\n",
    "\n",
    "print(\"CSV file created successfully!\")\n"
   ]
  },
  {
   "cell_type": "markdown",
   "id": "7ec634eb-d290-440b-a091-680001e814d2",
   "metadata": {},
   "source": [
    "# Opening file Using Pandas"
   ]
  },
  {
   "cell_type": "code",
   "execution_count": 6,
   "id": "4d71ee6d-a38e-4310-a5bd-553d30aed77f",
   "metadata": {},
   "outputs": [
    {
     "name": "stdout",
     "output_type": "stream",
     "text": [
      "     sl_no country_code          country_name  mbps_downloaded\n",
      "0        1           +1                 Qatar           286.42\n",
      "1        2           -1  United Arab Emirates           284.21\n",
      "2        3            -                Kuwait           216.96\n",
      "3        4           +2           South Korea           173.95\n",
      "4        5            -               Denmark           157.94\n",
      "..     ...          ...                   ...              ...\n",
      "138    139           +1            Tajikistan             8.14\n",
      "139    140           +2                 Sudan             7.50\n",
      "140    141            -           Afghanistan             5.07\n",
      "141    142           +1                  Cuba             3.84\n",
      "142    143           +1            East Timor             3.34\n",
      "\n",
      "[143 rows x 4 columns]\n"
     ]
    }
   ],
   "source": [
    "import pandas as pd\n",
    "\n",
    "file = pd.read_csv(r'C:\\Users\\LOKESH CHANDRA ROY\\Downloads\\mobile_data.csv',encoding = 'latin-1')\n",
    "print(file)"
   ]
  },
  {
   "cell_type": "markdown",
   "id": "df915262-c1bc-4939-94ea-b6d2e3faa227",
   "metadata": {},
   "source": [
    "# WebScraping for Fixed_Broadband"
   ]
  },
  {
   "cell_type": "code",
   "execution_count": 36,
   "id": "c4420b2c-b957-4bbb-aceb-1457e3b455f5",
   "metadata": {},
   "outputs": [
    {
     "name": "stdout",
     "output_type": "stream",
     "text": [
      "[['1', '-', 'Singapore', '286.66'], ['2', '+2', 'Chile', '272.01'], ['3', '-1', 'Hong Kong (SAR)', '270.72'], ['4', '-1', 'Iceland', '259.72'], ['5', '+1', 'United Arab Emirates', '257.14'], ['6', '+1', 'United States', '242.38'], ['7', '+1', 'France', '240.36'], ['8', '-3', 'China', '238.17'], ['9', '-', 'Monaco', '236.00'], ['10', '+1', 'Thailand', '226.36'], ['11', '-1', 'Denmark', '225.81'], ['12', '+1', 'Spain', '219.37'], ['13', '-1', 'Romania', '212.53'], ['14', '-', 'Switzerland', '202.88'], ['15', '-', 'Japan', '198.60'], ['16', '-', 'Netherlands', '195.05'], ['17', '-', 'Canada', '194.31'], ['18', '+1', 'Israel', '192.88'], ['19', '-1', 'Liechtenstein', '187.01'], ['20', '-', 'Hungary', '173.48'], ['21', '-', 'Portugal', '172.83'], ['22', '+1', 'South Korea', '170.94'], ['23', '+3', 'Kuwait', '166.42'], ['24', '-', 'New Zealand', '163.86'], ['25', '-', 'Macau (SAR)', '158.63'], ['26', '+2', 'Poland', '154.68'], ['27', '-', 'Sweden', '154.37'], ['28', '-6', 'Taiwan', '153.00'], ['29', '-', 'Panama', '151.68'], ['30', '-', 'Brazil', '150.04'], ['31', '+3', 'Uruguay', '142.77'], ['32', '-1', 'Luxembourg', '137.86'], ['33', '+3', 'Colombia', '137.73'], ['34', '-1', 'Qatar', '136.89'], ['35', '-3', 'Norway', '136.21'], ['36', '+9', 'Moldova', '132.80'], ['37', '-2', 'Jordan', '132.03'], ['38', '+8', 'Andorra', '120.14'], ['39', '-1', 'Malta', '116.12'], ['40', '-3', 'Finland', '115.47'], ['41', '-2', 'Malaysia', '113.89'], ['42', '-1', 'Trinidad and Tobago', '113.09'], ['43', '-1', 'Lithuania', '111.17'], ['44', '-4', 'Ireland', '110.64'], ['45', '+2', 'Peru', '109.59'], ['46', '-2', 'Saudi Arabia', '108.73'], ['47', '-4', 'Vietnam', '107.24'], ['48', '+1', 'United Kingdom', '101.71'], ['49', '+6', 'San Marino', '100.17'], ['50', '-2', 'Belgium', '97.61'], ['51', '-1', 'Costa Rica', '94.03'], ['52', '-1', 'Philippines', '93.90'], ['53', '-1', 'Slovenia', '93.47'], ['54', '-1', 'Germany', '91.96'], ['55', '-1', 'Latvia', '91.78'], ['56', '+2', 'Cyprus', '91.69'], ['57', '+4', 'Saint Lucia', '91.49'], ['58', '-2', 'Barbados', '90.63'], ['59', '-', 'Paraguay', '89.62'], ['60', '+2', 'Austria', '87.99'], ['61', '-4', 'Dominica', '87.57'], ['62', '+4', 'Montenegro', '87.30'], ['63', '+4', 'Ecuador', '86.22'], ['64', '+8', 'Guyana', '86.10'], ['65', '-2', 'Russia', '85.94'], ['66', '-1', 'Saint Vincent and the Grenadines', '82.96'], ['67', '+2', 'Bahrain', '82.44'], ['68', '-', 'Bulgaria', '81.46'], ['69', '-9', 'Estonia', '81.26'], ['70', '-6', 'Grenada', '80.38'], ['71', '+4', 'Brunei', '79.69'], ['72', '+2', 'Argentina', '79.28'], ['73', '-2', 'Italy', '78.54'], ['74', '+2', 'Serbia', '77.07'], ['75', '-2', 'Slovakia', '77.04'], ['76', '-6', 'Ukraine', '75.70'], ['77', '+3', 'Croatia', '71.65'], ['78', '-', 'Kosovo', '69.74'], ['79', '+2', 'Jamaica', '69.21'], ['80', '-3', 'Czechia', '68.34'], ['81', '-2', 'Mongolia', '66.53'], ['82', '+1', 'Palestine', '65.86'], ['83', '+8', 'Uzbekistan', '65.76'], ['84', '+2', 'Oman', '65.62'], ['85', '-1', 'Nepal', '65.48'], ['86', '-4', 'Egypt', '63.43'], ['87', '+3', 'Belarus', '62.67'], ['88', '-1', 'India', '62.07'], ['89', '-1', 'Mexico', '61.97'], ['90', '+3', 'The Bahamas', '60.94'], ['91', '-6', 'Albania', '60.32'], ['92', '-', 'Saint Kitts and Nevis', '60.02'], ['93', '-4', \"Côte d'Ivoire\", '58.69'], ['94', '+1', 'Australia', '58.35'], ['95', '-1', 'Kyrgyzstan', '56.06'], ['96', '+1', 'Nicaragua', '52.78'], ['97', '-1', 'Armenia', '50.84'], ['98', '-', 'Mauritius', '50.77'], ['99', '+3', 'Kazakhstan', '50.70'], ['100', '+1', 'El Salvador', '50.30'], ['101', '-2', 'Greece', '50.12'], ['102', '-2', 'Guatemala', '49.24'], ['103', '-', 'South Africa', '47.37'], ['104', '+1', 'Belize', '45.78'], ['105', '-1', 'Honduras', '45.27'], ['106', '+4', 'Venezuela', '44.86'], ['107', '+2', 'Bangladesh', '43.70'], ['108', '-2', 'Cambodia', '43.60'], ['109', '-1', 'Burkina Faso', '43.21'], ['110', '-3', 'Congo', '42.80'], ['111', '-', 'Turkey', '41.90'], ['112', '+2', 'North Macedonia', '40.70'], ['113', '+3', 'DR Congo', '40.30'], ['114', '+1', 'Gabon', '39.49'], ['115', '+3', 'Azerbaijan', '37.32'], ['116', '+3', 'Haiti', '36.66'], ['117', '-4', 'Dominican Republic', '34.85'], ['118', '-6', 'Ghana', '34.42'], ['119', '-2', 'Antigua and Barbuda', '34.41'], ['120', '-', 'Madagascar', '34.29'], ['121', '+2', 'Bolivia', '32.80'], ['122', '-1', 'Laos', '32.68'], ['123', '-1', 'Iraq', '32.60'], ['124', '+4', 'Bosnia and Herzegovina', '31.07'], ['125', '+1', 'Indonesia', '29.62'], ['126', '-1', 'Seychelles', '29.15'], ['127', '-3', 'Togo', '29.07'], ['128', '+1', 'Rwanda', '28.06'], ['129', '+1', 'Morocco', '26.92'], ['130', '+1', 'Georgia', '26.30'], ['131', '+1', 'Tajikistan', '24.86'], ['132', '+2', 'Benin', '24.68'], ['133', '-6', 'Lesotho', '24.14'], ['134', '+3', 'Mauritania', '23.11'], ['135', '-2', 'Sri Lanka', '22.73'], ['136', '+5', 'Sierra Leone', '21.86'], ['137', '+3', 'Zambia', '21.26'], ['138', '-', 'Senegal', '21.08'], ['139', '-', 'Western Sahara', '20.79'], ['140', '+3', 'Myanmar (Burma)', '20.71'], ['141', '+3', 'Mali', '20.45'], ['142', '-7', 'Angola', '19.96'], ['143', '-1', 'Nigeria', '19.91'], ['144', '+1', 'Tanzania', '18.45'], ['145', '+1', 'Malawi', '18.36'], ['146', '-10', 'Djibouti', '17.07'], ['147', '+1', 'Fiji', '16.99'], ['148', '+10', 'Swaziland', '16.29'], ['149', '+7', 'Cape Verde', '14.74'], ['150', '-3', 'Bhutan', '14.66'], ['151', '+4', 'Zimbabwe', '14.32'], ['152', '-2', 'Pakistan', '14.04'], ['153', '-', 'Mozambique', '14.03'], ['154', '-5', 'Papua New Guinea', '13.96'], ['155', '+2', 'Namibia', '13.89'], ['156', '-4', 'Iran', '13.51'], ['157', '-6', 'Somalia', '13.19'], ['158', '-4', 'Uganda', '13.08'], ['159', '+2', 'Maldives', '12.40'], ['160', '-1', 'Algeria', '12.36'], ['161', '-1', 'Suriname', '12.25'], ['162', '+4', 'Libya', '11.99'], ['163', '-1', 'Micronesia', '11.94'], ['164', '+6', 'Sudan', '11.70'], ['165', '-2', 'Lebanon', '11.24'], ['166', '-2', 'Kenya', '10.58'], ['167', '-2', 'Guinea', '10.34'], ['168', '-1', 'Cameroon', '9.73'], ['169', '-1', 'Tunisia', '9.41'], ['170', '+2', 'Liberia', '9.23'], ['171', '-2', 'Ethiopia', '8.77'], ['172', '+3', 'Botswana', '8.29'], ['173', '-2', 'Turkmenistan', '7.53'], ['174', '-', 'Yemen', '7.38'], ['175', '+3', 'Niger', '6.16'], ['176', '-', 'Burundi', '5.80'], ['177', '-', 'The Gambia', '5.51'], ['178', '-5', 'East Timor', '4.81'], ['179', '-', 'Syria', '3.71'], ['180', '-', 'Afghanistan', '3.03'], ['181', '-', 'Cuba', '2.55']]\n"
     ]
    }
   ],
   "source": [
    "import requests\n",
    "from bs4 import BeautifulSoup\n",
    "\n",
    "response = requests.get('https://www.speedtest.net/global-index')\n",
    "soup = BeautifulSoup(response.content, 'html.parser')\n",
    "\n",
    "fixed_median_element = soup.find('div', id='column-fixedMedian', class_='pure-u-1 pure-u-lg-1-2 results-column fixedMedian-results')\n",
    "\n",
    "if fixed_median_element:\n",
    "    fixed_median_list = []\n",
    "    fixed_median_text = fixed_median_element.text.strip()\n",
    "    lines = fixed_median_text.split('\\n')\n",
    "    for line in lines:\n",
    "        line = line.strip()\n",
    "        if line:\n",
    "            fixed_median_list.append(line)\n",
    "    datas = fixed_median_list[14::]\n",
    "    #print(datas)\n",
    "    elements_per_sublist1 = 4\n",
    "    sublist = [datas[i:i+elements_per_sublist1] for i in range(0, len(datas), elements_per_sublist1)]\n",
    "    last_data1 = sublist[0:181]\n",
    "    print(last_data1)\n",
    "else:\n",
    "    print(\"No <div> element with id 'column-fixedMedian' and class 'pure-u-1 pure-u-lg-1-2 results-column fixedMedian-results' found\")\n"
   ]
  },
  {
   "cell_type": "markdown",
   "id": "c65d4ca5-2d7a-4cca-b0c9-f4f95b0de7c0",
   "metadata": {},
   "source": [
    "# Converting into csv"
   ]
  },
  {
   "cell_type": "code",
   "execution_count": 38,
   "id": "4e13a045-d94c-439c-9084-151d7c51dc1b",
   "metadata": {},
   "outputs": [
    {
     "name": "stdout",
     "output_type": "stream",
     "text": [
      "CSV file created successfully!\n"
     ]
    }
   ],
   "source": [
    "import csv\n",
    "column_names = ['sl_no','country_code','country_name','mbps_downloaded']\n",
    "\n",
    "with open('fixed_broadband.csv', 'w', newline='') as csvfile:\n",
    "  writer = csv.writer(csvfile)\n",
    "  # Write the header row\n",
    "  writer.writerow(column_names)\n",
    "  # Write the data rows\n",
    "  writer.writerows(last_data1)\n",
    "\n",
    "print(\"CSV file created successfully!\")\n"
   ]
  },
  {
   "cell_type": "markdown",
   "id": "3f576db9-d6d5-4eb5-87f0-ba9ff8db845d",
   "metadata": {},
   "source": [
    "# Opeing file using Pandas"
   ]
  },
  {
   "cell_type": "code",
   "execution_count": 14,
   "id": "96f7e24d-c054-4091-ba3b-fefbc150b1c5",
   "metadata": {},
   "outputs": [
    {
     "name": "stdout",
     "output_type": "stream",
     "text": [
      "     sl_no country_code          country_name  mbps_downloaded\n",
      "0        1            -             Singapore           286.66\n",
      "1        2           +2                 Chile           272.01\n",
      "2        3           -1       Hong Kong (SAR)           270.72\n",
      "3        4           -1               Iceland           259.72\n",
      "4        5           +1  United Arab Emirates           257.14\n",
      "..     ...          ...                   ...              ...\n",
      "176    177            -            The Gambia             5.51\n",
      "177    178           -5            East Timor             4.81\n",
      "178    179            -                 Syria             3.71\n",
      "179    180            -           Afghanistan             3.03\n",
      "180    181            -                  Cuba             2.55\n",
      "\n",
      "[181 rows x 4 columns]\n"
     ]
    }
   ],
   "source": [
    "fixed_broadband = pd.read_csv(r'C:\\Users\\LOKESH CHANDRA ROY\\Downloads\\fixed_broadband.csv',encoding = 'latin-1')\n",
    "print(fixed_broadband)"
   ]
  },
  {
   "cell_type": "code",
   "execution_count": null,
   "id": "258dccc6-2494-4750-9a20-781c63ed8c40",
   "metadata": {},
   "outputs": [],
   "source": []
  },
  {
   "cell_type": "code",
   "execution_count": null,
   "id": "6777a4ef-c492-4c1c-a39b-e8fb6c76949b",
   "metadata": {},
   "outputs": [],
   "source": []
  }
 ],
 "metadata": {
  "kernelspec": {
   "display_name": "Python 3 (ipykernel)",
   "language": "python",
   "name": "python3"
  },
  "language_info": {
   "codemirror_mode": {
    "name": "ipython",
    "version": 3
   },
   "file_extension": ".py",
   "mimetype": "text/x-python",
   "name": "python",
   "nbconvert_exporter": "python",
   "pygments_lexer": "ipython3",
   "version": "3.11.7"
  }
 },
 "nbformat": 4,
 "nbformat_minor": 5
}
